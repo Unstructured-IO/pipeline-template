{
 "cells": [
  {
   "cell_type": "markdown",
   "id": "3931743a",
   "metadata": {},
   "source": [
    "# File Processing Pipeline"
   ]
  },
  {
   "cell_type": "markdown",
   "id": "757bd7cd",
   "metadata": {},
   "source": [
    "## Section 1: Introduction\n",
    "\n",
    "The goal of this notebook is to show how you can turn a notebook that processes a file into an API."
   ]
  },
  {
   "cell_type": "markdown",
   "id": "e21660e2",
   "metadata": {},
   "source": [
    "## Section 2: Pipeline API"
   ]
  },
  {
   "cell_type": "code",
   "execution_count": null,
   "id": "7cb5e00b",
   "metadata": {},
   "outputs": [],
   "source": [
    "# pipeline-api\n",
    "def pipeline_api(\n",
    "    file,\n",
    "    filename=None,\n",
    "    file_content_type=None,\n",
    "    m_some_parameters=[],\n",
    "):\n",
    "    return f\"{':'.join([filename, str(file_content_type), str(len(file.read()))])}\""
   ]
  }
 ],
 "metadata": {
  "kernelspec": {
   "display_name": "python3",
   "language": "python",
   "name": "python3"
  }
 },
 "nbformat": 4,
 "nbformat_minor": 5
}
