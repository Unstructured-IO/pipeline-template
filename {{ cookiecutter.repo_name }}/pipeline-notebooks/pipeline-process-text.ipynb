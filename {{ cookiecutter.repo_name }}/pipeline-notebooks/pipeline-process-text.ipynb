{
 "cells": [
  {
   "cell_type": "markdown",
   "id": "3931743a",
   "metadata": {},
   "source": [
    "# Text Processing Pipeline"
   ]
  },
  {
   "cell_type": "markdown",
   "id": "757bd7cd",
   "metadata": {},
   "source": [
    "## Section 1: Introduction\n",
    "\n",
    "The goal of this notebook is to show how you can turn a notebook that accepts text into an API that can return response in specified response type and response schema."
   ]
  },
  {
   "cell_type": "markdown",
   "id": "e21660e2",
   "metadata": {},
   "source": [
    "## Section 2: Pipeline API"
   ]
  },
  {
   "cell_type": "code",
   "execution_count": null,
   "id": "ef0b7cb5",
   "metadata": {},
   "outputs": [],
   "source": [
    "# pipeline-api\n",
    "from unstructured.documents.elements import Text\n",
    "from unstructured.staging.base import convert_to_isd, convert_to_isd_csv\n",
    "from unstructured.staging.label_studio import stage_for_label_studio"
   ]
  },
  {
   "cell_type": "code",
   "execution_count": null,
   "id": "7cb5e00b",
   "metadata": {},
   "outputs": [],
   "source": [
    "# pipeline-api\n",
    "def pipeline_api(\n",
    "    text,\n",
    "    response_type=\"application/json\",\n",
    "    response_schema=\"isd\"\n",
    "):\n",
    "    text = Text(text)\n",
    "    if response_type == \"application/json\":\n",
    "        if response_schema == \"isd\":\n",
    "            return convert_to_isd([text])\n",
    "        elif response_schema == \"label_studio\":\n",
    "            return stage_for_label_studio([text])\n",
    "    elif response_type == \"text/csv\":\n",
    "        return convert_to_isd_csv([text])\n",
    "    return {\"message\": \"unsupported arguments\"}"
   ]
  }
 ],
 "metadata": {
  "kernelspec": {
   "display_name": "python3",
   "language": "python",
   "name": "python3"
  }
 },
 "nbformat": 4,
 "nbformat_minor": 5
}
